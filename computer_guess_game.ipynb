{
 "cells": [
  {
   "cell_type": "code",
   "execution_count": 1,
   "metadata": {},
   "outputs": [
    {
     "name": "stdout",
     "output_type": "stream",
     "text": [
      "Enter a number : 55\n",
      "take larger number\n",
      "Enter a number : 66\n",
      "take larger number\n",
      "Enter a number : 88\n",
      "take larger number\n",
      "Enter a number : 95\n",
      "you win\n"
     ]
    }
   ],
   "source": [
    "from random import randint\n",
    "computer_guess=randint(1,100)\n",
    "chance=1\n",
    "while chance<=5:\n",
    "    user_input=int(input(\"Enter a number : \"))\n",
    "    if user_input>100 or user_input<1:\n",
    "        continue\n",
    "    elif computer_guess==user_input:\n",
    "        print(\"you win\")\n",
    "        break\n",
    "    elif computer_guess<user_input:\n",
    "        print(\"take small number\")\n",
    "    elif computer_guess>user_input:\n",
    "        print(\"take larger number\")\n",
    "    chance=chance+1\n",
    "else:\n",
    "    print(\"better luck next time\")\n",
    "    print(\"you are such a looser\")\n",
    "    print(f\"number is : {computer_guess}\")\n"
   ]
  },
  {
   "cell_type": "code",
   "execution_count": 2,
   "metadata": {},
   "outputs": [
    {
     "name": "stdout",
     "output_type": "stream",
     "text": [
      "Enter a number : 66\n",
      "take small number\n",
      "Enter a number : 44\n",
      "take small number\n",
      "Enter a number : 22\n",
      "take larger number\n",
      "Enter a number : 35\n",
      "take small number\n",
      "Enter a number : 25\n",
      "take small number\n",
      "better luck next time\n",
      "you are such a looser\n",
      "number is : 23\n"
     ]
    }
   ],
   "source": [
    "from random import randint\n",
    "computer_guess=randint(1,100)\n",
    "chance=1\n",
    "while chance<=5:\n",
    "    user_input=int(input(\"Enter a number : \"))\n",
    "    if user_input>100 or user_input<1:\n",
    "        continue\n",
    "    elif computer_guess==user_input:\n",
    "        print(\"you win\")\n",
    "        break\n",
    "    elif computer_guess<user_input:\n",
    "        print(\"take small number\")\n",
    "    elif computer_guess>user_input:\n",
    "        print(\"take larger number\")\n",
    "    chance=chance+1\n",
    "else:\n",
    "    print(\"better luck next time\")\n",
    "    print(\"you are such a looser\")\n",
    "    print(f\"number is : {computer_guess}\")\n"
   ]
  },
  {
   "cell_type": "code",
   "execution_count": null,
   "metadata": {},
   "outputs": [],
   "source": []
  }
 ],
 "metadata": {
  "kernelspec": {
   "display_name": "Python 3",
   "language": "python",
   "name": "python3"
  },
  "language_info": {
   "codemirror_mode": {
    "name": "ipython",
    "version": 3
   },
   "file_extension": ".py",
   "mimetype": "text/x-python",
   "name": "python",
   "nbconvert_exporter": "python",
   "pygments_lexer": "ipython3",
   "version": "3.7.4"
  }
 },
 "nbformat": 4,
 "nbformat_minor": 2
}
